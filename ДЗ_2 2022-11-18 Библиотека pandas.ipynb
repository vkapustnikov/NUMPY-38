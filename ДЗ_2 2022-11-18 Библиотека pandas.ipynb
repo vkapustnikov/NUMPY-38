{
 "cells": [
  {
   "cell_type": "code",
   "execution_count": 1,
   "metadata": {},
   "outputs": [],
   "source": [
    "# Загрузка библиотек\n",
    "import pandas as pd\n",
    "import lxml as lx"
   ]
  },
  {
   "cell_type": "code",
   "execution_count": 3,
   "metadata": {},
   "outputs": [
    {
     "data": {
      "text/plain": [
       "movieId  rating\n",
       "318      5.0       39553\n",
       "dtype: int64"
      ]
     },
     "execution_count": 3,
     "metadata": {},
     "output_type": "execute_result"
    }
   ],
   "source": [
    "# Задание 1\n",
    "# Скачайте с сайта датасет любого размера. Определите, какому фильму было выставлено больше всего оценок 5.0.\n",
    "\n",
    "ra = pd.read_csv('./hw_2/ratings.csv') # импортируем данные\n",
    "\n",
    "# Тренировка при решениии\n",
    "# ra5 = ra[['movieId', 'rating']][ra.rating == 5.0] # фильтруем по оценке 5.0\n",
    "# ra5[['movieId', 'rating']].value_counts().head(1) # считаем количество оценок 5.0\n",
    "\n",
    "# Решение\n",
    "ra[['movieId', 'rating']][ra['rating'] == 5.0].value_counts().head(1) "
   ]
  },
  {
   "cell_type": "code",
   "execution_count": 28,
   "metadata": {},
   "outputs": [
    {
     "data": {
      "text/plain": [
       "240580.0"
      ]
     },
     "execution_count": 28,
     "metadata": {},
     "output_type": "execute_result"
    }
   ],
   "source": [
    "# Задание 2\n",
    "# По данным файла power.csv посчитайте суммарное потребление стран Прибалтики (Латвия, Литва и Эстония) категорий 4, 12 и 21 за период с 2005 по 2010 год. \n",
    "# Не учитывайте в расчётах отрицательные значения quantity.\n",
    "\n",
    "power = pd.read_csv('./hw_gen_data/power.csv') # импортируем данные\n",
    "countries = ['lith', 'latv', 'esto'] # от лени, чтобы не прописывать длинное условие создаём список стран\n",
    "pattern = '|'.join(countries) # от неё же создаём условия поиска\n",
    "power[\n",
    "    (power['country'].str.contains(pattern, case=False)) & # условие по стране\n",
    "    ((power['year'] >= 2005) & (power['year'] <= 2010)) & # условие по году\n",
    "    ((power['category'] == 4) | (power['category'] == 12) | (power['category'] == 21)) & # условие по категории\n",
    "    ((power['quantity'] > 0))\n",
    "    ]['quantity'].sum() # считаем сумму потребления\n"
   ]
  },
  {
   "cell_type": "code",
   "execution_count": 13,
   "metadata": {},
   "outputs": [
    {
     "data": {
      "text/html": [
       "<div>\n",
       "<style scoped>\n",
       "    .dataframe tbody tr th:only-of-type {\n",
       "        vertical-align: middle;\n",
       "    }\n",
       "\n",
       "    .dataframe tbody tr th {\n",
       "        vertical-align: top;\n",
       "    }\n",
       "\n",
       "    .dataframe thead th {\n",
       "        text-align: right;\n",
       "    }\n",
       "</style>\n",
       "<table border=\"1\" class=\"dataframe\">\n",
       "  <thead>\n",
       "    <tr style=\"text-align: right;\">\n",
       "      <th></th>\n",
       "      <th>Название</th>\n",
       "      <th>Цена</th>\n",
       "      <th>Изменение</th>\n",
       "      <th>Изменение(%)</th>\n",
       "      <th>Обновлено</th>\n",
       "    </tr>\n",
       "  </thead>\n",
       "  <tbody>\n",
       "    <tr>\n",
       "      <th>0</th>\n",
       "      <td>EURRUB Курс евро к рублю сегодня</td>\n",
       "      <td>61.58</td>\n",
       "      <td>0.06</td>\n",
       "      <td>0.10</td>\n",
       "      <td>NaN</td>\n",
       "    </tr>\n",
       "    <tr>\n",
       "      <th>1</th>\n",
       "      <td>USDRUB Курс рубля к доллару</td>\n",
       "      <td>59.61</td>\n",
       "      <td>-0.07</td>\n",
       "      <td>-0.11</td>\n",
       "      <td>NaN</td>\n",
       "    </tr>\n",
       "  </tbody>\n",
       "</table>\n",
       "</div>"
      ],
      "text/plain": [
       "                           Название   Цена  Изменение  Изменение(%)  Обновлено\n",
       "0  EURRUB Курс евро к рублю сегодня  61.58       0.06          0.10        NaN\n",
       "1       USDRUB Курс рубля к доллару  59.61      -0.07         -0.11        NaN"
      ]
     },
     "execution_count": 13,
     "metadata": {},
     "output_type": "execute_result"
    }
   ],
   "source": [
    "# Задание 3\n",
    "# Выберите страницу любого сайта с табличными данными. Импортируйте таблицы в pandas DataFrame.\n",
    "\n",
    "df = pd.read_html('https://fortrader.org/quotes')\n",
    "df[0]"
   ]
  },
  {
   "cell_type": "code",
   "execution_count": null,
   "metadata": {},
   "outputs": [],
   "source": [
    "# Тренировка\n",
    "# ?pd.read_html"
   ]
  }
 ],
 "metadata": {
  "kernelspec": {
   "display_name": "Python 3.10.6 64-bit",
   "language": "python",
   "name": "python3"
  },
  "language_info": {
   "codemirror_mode": {
    "name": "ipython",
    "version": 3
   },
   "file_extension": ".py",
   "mimetype": "text/x-python",
   "name": "python",
   "nbconvert_exporter": "python",
   "pygments_lexer": "ipython3",
   "version": "3.10.6"
  },
  "orig_nbformat": 4,
  "vscode": {
   "interpreter": {
    "hash": "916dbcbb3f70747c44a77c7bcd40155683ae19c65e1c03b4aa3499c5328201f1"
   }
  }
 },
 "nbformat": 4,
 "nbformat_minor": 2
}
